{
 "cells": [
  {
   "cell_type": "code",
   "execution_count": 10,
   "metadata": {},
   "outputs": [
    {
     "name": "stderr",
     "output_type": "stream",
     "text": [
      "Installing package into ‘/home/nishida/R/x86_64-pc-linux-gnu-library/3.4’\n",
      "(as ‘lib’ is unspecified)\n",
      "\n",
      "Warning message:\n",
      "“dependencies ‘car’, ‘effects’, ‘mvtnorm’ are not available”\n",
      "also installing the dependencies ‘bitops’, ‘gss’, ‘stabledist’, ‘miniUI’, ‘webshot’, ‘gtools’, ‘gdata’, ‘caTools’, ‘FNN’, ‘kernlab’, ‘mclust’, ‘multicool’, ‘DistributionUtils’, ‘GeneralizedHyperbolic’, ‘TTR’, ‘timeDate’, ‘timeSeries’, ‘fBasics’, ‘fastICA’, ‘fracdiff’, ‘RcppArmadillo’, ‘cubature’, ‘quadprog’, ‘bdsmatrix’, ‘SparseM’, ‘MatrixModels’, ‘manipulateWidget’, ‘gplots’, ‘Rsolnp’, ‘nloptr’, ‘ks’, ‘numDeriv’, ‘spd’, ‘xts’, ‘chron’, ‘SkewHyperbolic’, ‘VGAM’, ‘quantmod’, ‘dynlm’, ‘fGarch’, ‘forecast’, ‘ineq’, ‘longmemo’, ‘np’, ‘plm’, ‘pscl’, ‘quantreg’, ‘rgl’, ‘ROCR’, ‘rugarch’, ‘sampleSelection’, ‘scatterplot3d’, ‘strucchange’, ‘systemfit’, ‘truncreg’, ‘tseries’, ‘urca’, ‘vars’\n",
      "\n",
      "\n",
      "Warning message in install.packages(\"AER\", dependencies = TRUE):\n",
      "“installation of package ‘dynlm’ had non-zero exit status”\n",
      "Warning message in install.packages(\"AER\", dependencies = TRUE):\n",
      "“installation of package ‘systemfit’ had non-zero exit status”\n",
      "Warning message in install.packages(\"AER\", dependencies = TRUE):\n",
      "“installation of package ‘AER’ had non-zero exit status”\n",
      "Warning message in install.packages(\"AER\", dependencies = TRUE):\n",
      "“installation of package ‘ks’ had non-zero exit status”\n",
      "Warning message in install.packages(\"AER\", dependencies = TRUE):\n",
      "“installation of package ‘sampleSelection’ had non-zero exit status”\n",
      "Warning message in install.packages(\"AER\", dependencies = TRUE):\n",
      "“installation of package ‘rugarch’ had non-zero exit status”\n"
     ]
    }
   ],
   "source": [
    "install.packages(\"AER\", dependencies = TRUE)"
   ]
  },
  {
   "cell_type": "code",
   "execution_count": 12,
   "metadata": {},
   "outputs": [
    {
     "name": "stderr",
     "output_type": "stream",
     "text": [
      "Installing package into ‘/home/nishida/R/x86_64-pc-linux-gnu-library/3.4’\n",
      "(as ‘lib’ is unspecified)\n",
      "\n",
      "Warning message:\n",
      "“dependency ‘car’ is not available”\n",
      "also installing the dependencies ‘leaps’, ‘locfit’, ‘TSA’\n",
      "\n",
      "\n",
      "Warning message in install.packages(\"dynlm\", dependencies = TRUE):\n",
      "“installation of package ‘dynlm’ had non-zero exit status”\n"
     ]
    }
   ],
   "source": [
    "install.packages(\"dynlm\", dependencies = TRUE)"
   ]
  },
  {
   "cell_type": "code",
   "execution_count": 13,
   "metadata": {},
   "outputs": [
    {
     "name": "stderr",
     "output_type": "stream",
     "text": [
      "Installing package into ‘/home/nishida/R/x86_64-pc-linux-gnu-library/3.4’\n",
      "(as ‘lib’ is unspecified)\n",
      "\n",
      "Warning message:\n",
      "“dependency ‘car’ is not available”\n",
      "also installing the dependencies ‘minqa’, ‘RcppEigen’, ‘lme4’, ‘abind’, ‘coda’, ‘arm’, ‘matrixcalc’, ‘mi’, ‘sem’\n",
      "\n",
      "\n",
      "Warning message in install.packages(\"systemfit\", dependencies = TRUE):\n",
      "“installation of package ‘systemfit’ had non-zero exit status”\n"
     ]
    }
   ],
   "source": [
    "install.packages(\"systemfit\", dependencies = TRUE)"
   ]
  },
  {
   "cell_type": "code",
   "execution_count": 14,
   "metadata": {
    "scrolled": true
   },
   "outputs": [
    {
     "name": "stderr",
     "output_type": "stream",
     "text": [
      "Installing package into ‘/home/nishida/R/x86_64-pc-linux-gnu-library/3.4’\n",
      "(as ‘lib’ is unspecified)\n",
      "\n",
      "Warning message:\n",
      "“dependency ‘mvtnorm’ is not available”\n",
      "also installing the dependencies ‘plot3D’, ‘plot3Drgl’, ‘shape’, ‘maps’, ‘misc3d’, ‘OceanView’, ‘oz’\n",
      "\n",
      "\n",
      "Warning message in install.packages(\"ks\", dependencies = TRUE):\n",
      "“installation of package ‘ks’ had non-zero exit status”\n"
     ]
    }
   ],
   "source": [
    "install.packages(\"ks\", dependencies = TRUE)"
   ]
  },
  {
   "cell_type": "code",
   "execution_count": 15,
   "metadata": {
    "scrolled": true
   },
   "outputs": [
    {
     "name": "stderr",
     "output_type": "stream",
     "text": [
      "Installing package into ‘/home/nishida/R/x86_64-pc-linux-gnu-library/3.4’\n",
      "(as ‘lib’ is unspecified)\n",
      "\n",
      "Warning message:\n",
      "“dependencies ‘mvtnorm’, ‘Ecdat’, ‘car’ are not available”\n",
      "also installing the dependency ‘systemfit’\n",
      "\n",
      "\n",
      "Warning message in install.packages(\"sampleSelection\", dependencies = TRUE):\n",
      "“installation of package ‘systemfit’ had non-zero exit status”\n",
      "Warning message in install.packages(\"sampleSelection\", dependencies = TRUE):\n",
      "“installation of package ‘sampleSelection’ had non-zero exit status”\n"
     ]
    }
   ],
   "source": [
    "install.packages(\"sampleSelection\", dependencies = TRUE)"
   ]
  },
  {
   "cell_type": "code",
   "execution_count": 16,
   "metadata": {
    "scrolled": true
   },
   "outputs": [
    {
     "name": "stderr",
     "output_type": "stream",
     "text": [
      "Installing package into ‘/home/nishida/R/x86_64-pc-linux-gnu-library/3.4’\n",
      "(as ‘lib’ is unspecified)\n",
      "\n",
      "Warning message:\n",
      "“dependency ‘mvtnorm’ is not available”\n",
      "also installing the dependency ‘ks’\n",
      "\n",
      "\n",
      "Warning message in install.packages(\"rugarch\", dependencies = TRUE):\n",
      "“installation of package ‘ks’ had non-zero exit status”\n",
      "Warning message in install.packages(\"rugarch\", dependencies = TRUE):\n",
      "“installation of package ‘rugarch’ had non-zero exit status”\n"
     ]
    }
   ],
   "source": [
    "install.packages(\"rugarch\", dependencies = TRUE)"
   ]
  },
  {
   "cell_type": "code",
   "execution_count": null,
   "metadata": {},
   "outputs": [],
   "source": []
  },
  {
   "cell_type": "code",
   "execution_count": 11,
   "metadata": {},
   "outputs": [
    {
     "ename": "ERROR",
     "evalue": "Error in find.package(package, lib.loc, verbose = verbose): there is no package called ‘AER’\n",
     "output_type": "error",
     "traceback": [
      "Error in find.package(package, lib.loc, verbose = verbose): there is no package called ‘AER’\nTraceback:\n",
      "1. data(\"TravelMode\", package = \"AER\")",
      "2. find.package(package, lib.loc, verbose = verbose)",
      "3. stop(gettextf(\"there is no package called %s\", sQuote(pkg)), \n .     domain = NA)"
     ]
    }
   ],
   "source": [
    "data(\"TravelMode\", package = \"AER\")"
   ]
  },
  {
   "cell_type": "code",
   "execution_count": null,
   "metadata": {},
   "outputs": [],
   "source": []
  }
 ],
 "metadata": {
  "kernelspec": {
   "display_name": "R",
   "language": "R",
   "name": "ir"
  },
  "language_info": {
   "codemirror_mode": "r",
   "file_extension": ".r",
   "mimetype": "text/x-r-source",
   "name": "R",
   "pygments_lexer": "r",
   "version": "3.4.4"
  },
  "toc": {
   "base_numbering": 1,
   "nav_menu": {},
   "number_sections": true,
   "sideBar": true,
   "skip_h1_title": false,
   "title_cell": "Table of Contents",
   "title_sidebar": "Contents",
   "toc_cell": false,
   "toc_position": {},
   "toc_section_display": true,
   "toc_window_display": false
  }
 },
 "nbformat": 4,
 "nbformat_minor": 2
}
