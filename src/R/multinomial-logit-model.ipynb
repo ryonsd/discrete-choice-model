{
 "cells": [
  {
   "cell_type": "code",
   "execution_count": 1,
   "metadata": {},
   "outputs": [
    {
     "name": "stderr",
     "output_type": "stream",
     "text": [
      "Installing package into ‘/home/nishida/R/x86_64-pc-linux-gnu-library/3.4’\n",
      "(as ‘lib’ is unspecified)\n",
      "\n"
     ]
    }
   ],
   "source": [
    "install.packages(\"mlogit\")"
   ]
  },
  {
   "cell_type": "code",
   "execution_count": 2,
   "metadata": {
    "scrolled": true
   },
   "outputs": [
    {
     "name": "stderr",
     "output_type": "stream",
     "text": [
      "Loading required package: Formula\n",
      "\n",
      "Loading required package: zoo\n",
      "\n",
      "\n",
      "Attaching package: ‘zoo’\n",
      "\n",
      "\n",
      "The following objects are masked from ‘package:base’:\n",
      "\n",
      "    as.Date, as.Date.numeric\n",
      "\n",
      "\n",
      "Loading required package: lmtest\n",
      "\n"
     ]
    }
   ],
   "source": [
    "library(\"mlogit\")"
   ]
  },
  {
   "cell_type": "markdown",
   "metadata": {},
   "source": [
    "# Mode"
   ]
  },
  {
   "cell_type": "code",
   "execution_count": 67,
   "metadata": {},
   "outputs": [
    {
     "data": {
      "text/html": [
       "<table>\n",
       "<caption>A data.frame: 6 × 9</caption>\n",
       "<thead>\n",
       "\t<tr><th scope=col>choice</th><th scope=col>cost.car</th><th scope=col>cost.carpool</th><th scope=col>cost.bus</th><th scope=col>cost.rail</th><th scope=col>time.car</th><th scope=col>time.carpool</th><th scope=col>time.bus</th><th scope=col>time.rail</th></tr>\n",
       "\t<tr><th scope=col>&lt;fct&gt;</th><th scope=col>&lt;dbl&gt;</th><th scope=col>&lt;dbl&gt;</th><th scope=col>&lt;dbl&gt;</th><th scope=col>&lt;dbl&gt;</th><th scope=col>&lt;dbl&gt;</th><th scope=col>&lt;dbl&gt;</th><th scope=col>&lt;dbl&gt;</th><th scope=col>&lt;dbl&gt;</th></tr>\n",
       "</thead>\n",
       "<tbody>\n",
       "\t<tr><td>car </td><td>1.507010</td><td>2.3356118</td><td>1.800512</td><td>2.358920</td><td>18.503200</td><td>26.338233</td><td>20.86779</td><td>30.03347</td></tr>\n",
       "\t<tr><td>rail</td><td>6.056998</td><td>2.8969191</td><td>2.237128</td><td>1.855450</td><td>31.311107</td><td>34.256956</td><td>67.18189</td><td>60.29313</td></tr>\n",
       "\t<tr><td>car </td><td>5.794677</td><td>2.1374543</td><td>2.576385</td><td>2.747479</td><td>22.547429</td><td>23.255171</td><td>63.30906</td><td>49.17164</td></tr>\n",
       "\t<tr><td>car </td><td>1.869144</td><td>2.5724266</td><td>1.903518</td><td>2.268276</td><td>26.090282</td><td>29.896023</td><td>19.75270</td><td>13.47268</td></tr>\n",
       "\t<tr><td>car </td><td>2.498952</td><td>1.7220099</td><td>2.686000</td><td>2.973866</td><td> 4.699140</td><td>12.414084</td><td>43.09204</td><td>39.74325</td></tr>\n",
       "\t<tr><td>car </td><td>4.726875</td><td>0.6241683</td><td>1.847650</td><td>2.310053</td><td> 3.072979</td><td> 9.223313</td><td>12.82562</td><td>43.54422</td></tr>\n",
       "</tbody>\n",
       "</table>\n"
      ],
      "text/latex": [
       "A data.frame: 6 × 9\n",
       "\\begin{tabular}{r|lllllllll}\n",
       " choice & cost.car & cost.carpool & cost.bus & cost.rail & time.car & time.carpool & time.bus & time.rail\\\\\n",
       " <fct> & <dbl> & <dbl> & <dbl> & <dbl> & <dbl> & <dbl> & <dbl> & <dbl>\\\\\n",
       "\\hline\n",
       "\t car  & 1.507010 & 2.3356118 & 1.800512 & 2.358920 & 18.503200 & 26.338233 & 20.86779 & 30.03347\\\\\n",
       "\t rail & 6.056998 & 2.8969191 & 2.237128 & 1.855450 & 31.311107 & 34.256956 & 67.18189 & 60.29313\\\\\n",
       "\t car  & 5.794677 & 2.1374543 & 2.576385 & 2.747479 & 22.547429 & 23.255171 & 63.30906 & 49.17164\\\\\n",
       "\t car  & 1.869144 & 2.5724266 & 1.903518 & 2.268276 & 26.090282 & 29.896023 & 19.75270 & 13.47268\\\\\n",
       "\t car  & 2.498952 & 1.7220099 & 2.686000 & 2.973866 &  4.699140 & 12.414084 & 43.09204 & 39.74325\\\\\n",
       "\t car  & 4.726875 & 0.6241683 & 1.847650 & 2.310053 &  3.072979 &  9.223313 & 12.82562 & 43.54422\\\\\n",
       "\\end{tabular}\n"
      ],
      "text/markdown": [
       "\n",
       "A data.frame: 6 × 9\n",
       "\n",
       "| choice &lt;fct&gt; | cost.car &lt;dbl&gt; | cost.carpool &lt;dbl&gt; | cost.bus &lt;dbl&gt; | cost.rail &lt;dbl&gt; | time.car &lt;dbl&gt; | time.carpool &lt;dbl&gt; | time.bus &lt;dbl&gt; | time.rail &lt;dbl&gt; |\n",
       "|---|---|---|---|---|---|---|---|---|\n",
       "| car  | 1.507010 | 2.3356118 | 1.800512 | 2.358920 | 18.503200 | 26.338233 | 20.86779 | 30.03347 |\n",
       "| rail | 6.056998 | 2.8969191 | 2.237128 | 1.855450 | 31.311107 | 34.256956 | 67.18189 | 60.29313 |\n",
       "| car  | 5.794677 | 2.1374543 | 2.576385 | 2.747479 | 22.547429 | 23.255171 | 63.30906 | 49.17164 |\n",
       "| car  | 1.869144 | 2.5724266 | 1.903518 | 2.268276 | 26.090282 | 29.896023 | 19.75270 | 13.47268 |\n",
       "| car  | 2.498952 | 1.7220099 | 2.686000 | 2.973866 |  4.699140 | 12.414084 | 43.09204 | 39.74325 |\n",
       "| car  | 4.726875 | 0.6241683 | 1.847650 | 2.310053 |  3.072979 |  9.223313 | 12.82562 | 43.54422 |\n",
       "\n"
      ],
      "text/plain": [
       "  choice cost.car cost.carpool cost.bus cost.rail time.car  time.carpool\n",
       "1 car    1.507010 2.3356118    1.800512 2.358920  18.503200 26.338233   \n",
       "2 rail   6.056998 2.8969191    2.237128 1.855450  31.311107 34.256956   \n",
       "3 car    5.794677 2.1374543    2.576385 2.747479  22.547429 23.255171   \n",
       "4 car    1.869144 2.5724266    1.903518 2.268276  26.090282 29.896023   \n",
       "5 car    2.498952 1.7220099    2.686000 2.973866   4.699140 12.414084   \n",
       "6 car    4.726875 0.6241683    1.847650 2.310053   3.072979  9.223313   \n",
       "  time.bus time.rail\n",
       "1 20.86779 30.03347 \n",
       "2 67.18189 60.29313 \n",
       "3 63.30906 49.17164 \n",
       "4 19.75270 13.47268 \n",
       "5 43.09204 39.74325 \n",
       "6 12.82562 43.54422 "
      ]
     },
     "metadata": {},
     "output_type": "display_data"
    }
   ],
   "source": [
    "data(\"Mode\", package = \"mlogit\")\n",
    "head(Mode)"
   ]
  },
  {
   "cell_type": "code",
   "execution_count": 68,
   "metadata": {},
   "outputs": [
    {
     "data": {
      "text/html": [
       "<table>\n",
       "<caption>A mlogit.data: 6 × 5</caption>\n",
       "<thead>\n",
       "\t<tr><th></th><th scope=col>choice</th><th scope=col>alt</th><th scope=col>cost</th><th scope=col>time</th><th scope=col>chid</th></tr>\n",
       "\t<tr><th></th><th scope=col>&lt;lgl&gt;</th><th scope=col>&lt;chr&gt;</th><th scope=col>&lt;dbl&gt;</th><th scope=col>&lt;dbl&gt;</th><th scope=col>&lt;int&gt;</th></tr>\n",
       "</thead>\n",
       "<tbody>\n",
       "\t<tr><th scope=row>1.bus</th><td>FALSE</td><td>bus    </td><td>1.800512</td><td>20.86779</td><td>1</td></tr>\n",
       "\t<tr><th scope=row>1.car</th><td> TRUE</td><td>car    </td><td>1.507010</td><td>18.50320</td><td>1</td></tr>\n",
       "\t<tr><th scope=row>1.carpool</th><td>FALSE</td><td>carpool</td><td>2.335612</td><td>26.33823</td><td>1</td></tr>\n",
       "\t<tr><th scope=row>1.rail</th><td>FALSE</td><td>rail   </td><td>2.358920</td><td>30.03347</td><td>1</td></tr>\n",
       "\t<tr><th scope=row>2.bus</th><td>FALSE</td><td>bus    </td><td>2.237128</td><td>67.18189</td><td>2</td></tr>\n",
       "\t<tr><th scope=row>2.car</th><td>FALSE</td><td>car    </td><td>6.056998</td><td>31.31111</td><td>2</td></tr>\n",
       "</tbody>\n",
       "</table>\n"
      ],
      "text/latex": [
       "A mlogit.data: 6 × 5\n",
       "\\begin{tabular}{r|lllll}\n",
       "  & choice & alt & cost & time & chid\\\\\n",
       "  & <lgl> & <chr> & <dbl> & <dbl> & <int>\\\\\n",
       "\\hline\n",
       "\t1.bus & FALSE & bus     & 1.800512 & 20.86779 & 1\\\\\n",
       "\t1.car &  TRUE & car     & 1.507010 & 18.50320 & 1\\\\\n",
       "\t1.carpool & FALSE & carpool & 2.335612 & 26.33823 & 1\\\\\n",
       "\t1.rail & FALSE & rail    & 2.358920 & 30.03347 & 1\\\\\n",
       "\t2.bus & FALSE & bus     & 2.237128 & 67.18189 & 2\\\\\n",
       "\t2.car & FALSE & car     & 6.056998 & 31.31111 & 2\\\\\n",
       "\\end{tabular}\n"
      ],
      "text/markdown": [
       "\n",
       "A mlogit.data: 6 × 5\n",
       "\n",
       "| <!--/--> | choice &lt;lgl&gt; | alt &lt;chr&gt; | cost &lt;dbl&gt; | time &lt;dbl&gt; | chid &lt;int&gt; |\n",
       "|---|---|---|---|---|---|\n",
       "| 1.bus | FALSE | bus     | 1.800512 | 20.86779 | 1 |\n",
       "| 1.car |  TRUE | car     | 1.507010 | 18.50320 | 1 |\n",
       "| 1.carpool | FALSE | carpool | 2.335612 | 26.33823 | 1 |\n",
       "| 1.rail | FALSE | rail    | 2.358920 | 30.03347 | 1 |\n",
       "| 2.bus | FALSE | bus     | 2.237128 | 67.18189 | 2 |\n",
       "| 2.car | FALSE | car     | 6.056998 | 31.31111 | 2 |\n",
       "\n"
      ],
      "text/plain": [
       "          choice alt     cost     time     chid\n",
       "1.bus     FALSE  bus     1.800512 20.86779 1   \n",
       "1.car      TRUE  car     1.507010 18.50320 1   \n",
       "1.carpool FALSE  carpool 2.335612 26.33823 1   \n",
       "1.rail    FALSE  rail    2.358920 30.03347 1   \n",
       "2.bus     FALSE  bus     2.237128 67.18189 2   \n",
       "2.car     FALSE  car     6.056998 31.31111 2   "
      ]
     },
     "metadata": {},
     "output_type": "display_data"
    }
   ],
   "source": [
    "mode <- mlogit.data(Mode, shape = \"wide\", choice = \"choice\", varying = 2:9, sep = \".\")\n",
    "head(mode)"
   ]
  },
  {
   "cell_type": "code",
   "execution_count": 66,
   "metadata": {},
   "outputs": [],
   "source": [
    "# (actChoice <- table(mode$alt, mode$choice))\n",
    "# (actChoiceRatio <- actChoice[,2] / tail(mode$chid, 1)) "
   ]
  },
  {
   "cell_type": "code",
   "execution_count": 59,
   "metadata": {},
   "outputs": [
    {
     "data": {
      "text/plain": [
       "\n",
       "Call:\n",
       "mlogit(formula = choice ~ cost + time + 1, data = mode, method = \"nr\")\n",
       "\n",
       "Frequencies of alternatives:\n",
       "    bus     car carpool    rail \n",
       "0.17881 0.48124 0.07064 0.26932 \n",
       "\n",
       "nr method\n",
       "5 iterations, 0h:0m:0s \n",
       "g'(-H)^-1g = 6.07E-07 \n",
       "gradient close to zero \n",
       "\n",
       "Coefficients :\n",
       "                      Estimate Std. Error  z-value  Pr(>|z|)    \n",
       "car:(intercept)      3.2924661  0.3172767  10.3773 < 2.2e-16 ***\n",
       "carpool:(intercept) -0.9051585  0.2459427  -3.6804 0.0002329 ***\n",
       "rail:(intercept)     0.6277690  0.1633612   3.8428 0.0001216 ***\n",
       "cost                -0.7723478  0.0919795  -8.3970 < 2.2e-16 ***\n",
       "time                -0.0853574  0.0077484 -11.0161 < 2.2e-16 ***\n",
       "---\n",
       "Signif. codes:  0 ‘***’ 0.001 ‘**’ 0.01 ‘*’ 0.05 ‘.’ 0.1 ‘ ’ 1\n",
       "\n",
       "Log-Likelihood: -354.45\n",
       "McFadden R^2:  0.34811 \n",
       "Likelihood ratio test : chisq = 378.56 (p.value = < 2.22e-16)"
      ]
     },
     "metadata": {},
     "output_type": "display_data"
    }
   ],
   "source": [
    "result <- mlogit(choice ~ cost + time+1, data=mode)\n",
    "summary(result)"
   ]
  },
  {
   "cell_type": "code",
   "execution_count": 65,
   "metadata": {},
   "outputs": [],
   "source": [
    "# ( LL <- summary(result)$logLik )\n",
    "# ( LL0 <- mlogit(choice ~ 1, data=mode)$logLik)\n",
    "# as.numeric(1 - (LL/LL0))"
   ]
  },
  {
   "cell_type": "markdown",
   "metadata": {},
   "source": [
    "# Catsup"
   ]
  },
  {
   "cell_type": "code",
   "execution_count": 72,
   "metadata": {
    "scrolled": true
   },
   "outputs": [
    {
     "data": {
      "text/html": [
       "<table>\n",
       "<caption>A data.frame: 6 × 14</caption>\n",
       "<thead>\n",
       "\t<tr><th scope=col>id</th><th scope=col>disp.heinz41</th><th scope=col>disp.heinz32</th><th scope=col>disp.heinz28</th><th scope=col>disp.hunts32</th><th scope=col>feat.heinz41</th><th scope=col>feat.heinz32</th><th scope=col>feat.heinz28</th><th scope=col>feat.hunts32</th><th scope=col>price.heinz41</th><th scope=col>price.heinz32</th><th scope=col>price.heinz28</th><th scope=col>price.hunts32</th><th scope=col>choice</th></tr>\n",
       "\t<tr><th scope=col>&lt;dbl&gt;</th><th scope=col>&lt;dbl&gt;</th><th scope=col>&lt;dbl&gt;</th><th scope=col>&lt;dbl&gt;</th><th scope=col>&lt;dbl&gt;</th><th scope=col>&lt;dbl&gt;</th><th scope=col>&lt;dbl&gt;</th><th scope=col>&lt;dbl&gt;</th><th scope=col>&lt;dbl&gt;</th><th scope=col>&lt;dbl&gt;</th><th scope=col>&lt;dbl&gt;</th><th scope=col>&lt;dbl&gt;</th><th scope=col>&lt;dbl&gt;</th><th scope=col>&lt;fct&gt;</th></tr>\n",
       "</thead>\n",
       "<tbody>\n",
       "\t<tr><td>1</td><td>0</td><td>0</td><td>0</td><td>0</td><td>0</td><td>0</td><td>0</td><td>0</td><td>4.6</td><td>3.7</td><td>5.2</td><td>3.4</td><td>heinz28</td></tr>\n",
       "\t<tr><td>1</td><td>0</td><td>0</td><td>0</td><td>0</td><td>0</td><td>0</td><td>0</td><td>0</td><td>4.6</td><td>4.3</td><td>5.2</td><td>4.4</td><td>heinz28</td></tr>\n",
       "\t<tr><td>1</td><td>0</td><td>0</td><td>0</td><td>0</td><td>0</td><td>1</td><td>0</td><td>0</td><td>4.6</td><td>2.5</td><td>4.6</td><td>4.8</td><td>heinz28</td></tr>\n",
       "\t<tr><td>1</td><td>0</td><td>0</td><td>0</td><td>0</td><td>0</td><td>0</td><td>0</td><td>0</td><td>4.6</td><td>3.7</td><td>5.2</td><td>3.4</td><td>heinz28</td></tr>\n",
       "\t<tr><td>1</td><td>0</td><td>0</td><td>0</td><td>0</td><td>0</td><td>0</td><td>1</td><td>0</td><td>4.6</td><td>3.0</td><td>4.6</td><td>4.8</td><td>heinz28</td></tr>\n",
       "\t<tr><td>1</td><td>0</td><td>0</td><td>0</td><td>0</td><td>0</td><td>0</td><td>0</td><td>0</td><td>5.0</td><td>3.0</td><td>4.7</td><td>3.0</td><td>heinz28</td></tr>\n",
       "</tbody>\n",
       "</table>\n"
      ],
      "text/latex": [
       "A data.frame: 6 × 14\n",
       "\\begin{tabular}{r|llllllllllllll}\n",
       " id & disp.heinz41 & disp.heinz32 & disp.heinz28 & disp.hunts32 & feat.heinz41 & feat.heinz32 & feat.heinz28 & feat.hunts32 & price.heinz41 & price.heinz32 & price.heinz28 & price.hunts32 & choice\\\\\n",
       " <dbl> & <dbl> & <dbl> & <dbl> & <dbl> & <dbl> & <dbl> & <dbl> & <dbl> & <dbl> & <dbl> & <dbl> & <dbl> & <fct>\\\\\n",
       "\\hline\n",
       "\t 1 & 0 & 0 & 0 & 0 & 0 & 0 & 0 & 0 & 4.6 & 3.7 & 5.2 & 3.4 & heinz28\\\\\n",
       "\t 1 & 0 & 0 & 0 & 0 & 0 & 0 & 0 & 0 & 4.6 & 4.3 & 5.2 & 4.4 & heinz28\\\\\n",
       "\t 1 & 0 & 0 & 0 & 0 & 0 & 1 & 0 & 0 & 4.6 & 2.5 & 4.6 & 4.8 & heinz28\\\\\n",
       "\t 1 & 0 & 0 & 0 & 0 & 0 & 0 & 0 & 0 & 4.6 & 3.7 & 5.2 & 3.4 & heinz28\\\\\n",
       "\t 1 & 0 & 0 & 0 & 0 & 0 & 0 & 1 & 0 & 4.6 & 3.0 & 4.6 & 4.8 & heinz28\\\\\n",
       "\t 1 & 0 & 0 & 0 & 0 & 0 & 0 & 0 & 0 & 5.0 & 3.0 & 4.7 & 3.0 & heinz28\\\\\n",
       "\\end{tabular}\n"
      ],
      "text/markdown": [
       "\n",
       "A data.frame: 6 × 14\n",
       "\n",
       "| id &lt;dbl&gt; | disp.heinz41 &lt;dbl&gt; | disp.heinz32 &lt;dbl&gt; | disp.heinz28 &lt;dbl&gt; | disp.hunts32 &lt;dbl&gt; | feat.heinz41 &lt;dbl&gt; | feat.heinz32 &lt;dbl&gt; | feat.heinz28 &lt;dbl&gt; | feat.hunts32 &lt;dbl&gt; | price.heinz41 &lt;dbl&gt; | price.heinz32 &lt;dbl&gt; | price.heinz28 &lt;dbl&gt; | price.hunts32 &lt;dbl&gt; | choice &lt;fct&gt; |\n",
       "|---|---|---|---|---|---|---|---|---|---|---|---|---|---|\n",
       "| 1 | 0 | 0 | 0 | 0 | 0 | 0 | 0 | 0 | 4.6 | 3.7 | 5.2 | 3.4 | heinz28 |\n",
       "| 1 | 0 | 0 | 0 | 0 | 0 | 0 | 0 | 0 | 4.6 | 4.3 | 5.2 | 4.4 | heinz28 |\n",
       "| 1 | 0 | 0 | 0 | 0 | 0 | 1 | 0 | 0 | 4.6 | 2.5 | 4.6 | 4.8 | heinz28 |\n",
       "| 1 | 0 | 0 | 0 | 0 | 0 | 0 | 0 | 0 | 4.6 | 3.7 | 5.2 | 3.4 | heinz28 |\n",
       "| 1 | 0 | 0 | 0 | 0 | 0 | 0 | 1 | 0 | 4.6 | 3.0 | 4.6 | 4.8 | heinz28 |\n",
       "| 1 | 0 | 0 | 0 | 0 | 0 | 0 | 0 | 0 | 5.0 | 3.0 | 4.7 | 3.0 | heinz28 |\n",
       "\n"
      ],
      "text/plain": [
       "  id disp.heinz41 disp.heinz32 disp.heinz28 disp.hunts32 feat.heinz41\n",
       "1 1  0            0            0            0            0           \n",
       "2 1  0            0            0            0            0           \n",
       "3 1  0            0            0            0            0           \n",
       "4 1  0            0            0            0            0           \n",
       "5 1  0            0            0            0            0           \n",
       "6 1  0            0            0            0            0           \n",
       "  feat.heinz32 feat.heinz28 feat.hunts32 price.heinz41 price.heinz32\n",
       "1 0            0            0            4.6           3.7          \n",
       "2 0            0            0            4.6           4.3          \n",
       "3 1            0            0            4.6           2.5          \n",
       "4 0            0            0            4.6           3.7          \n",
       "5 0            1            0            4.6           3.0          \n",
       "6 0            0            0            5.0           3.0          \n",
       "  price.heinz28 price.hunts32 choice \n",
       "1 5.2           3.4           heinz28\n",
       "2 5.2           4.4           heinz28\n",
       "3 4.6           4.8           heinz28\n",
       "4 5.2           3.4           heinz28\n",
       "5 4.6           4.8           heinz28\n",
       "6 4.7           3.0           heinz28"
      ]
     },
     "metadata": {},
     "output_type": "display_data"
    }
   ],
   "source": [
    "data(\"Catsup\", package = \"mlogit\")\n",
    "head(Catsup)"
   ]
  },
  {
   "cell_type": "code",
   "execution_count": 73,
   "metadata": {},
   "outputs": [
    {
     "data": {
      "text/html": [
       "<table>\n",
       "<caption>A mlogit.data: 6 × 7</caption>\n",
       "<thead>\n",
       "\t<tr><th></th><th scope=col>id</th><th scope=col>choice</th><th scope=col>alt</th><th scope=col>disp</th><th scope=col>feat</th><th scope=col>price</th><th scope=col>chid</th></tr>\n",
       "\t<tr><th></th><th scope=col>&lt;dbl&gt;</th><th scope=col>&lt;lgl&gt;</th><th scope=col>&lt;chr&gt;</th><th scope=col>&lt;dbl&gt;</th><th scope=col>&lt;dbl&gt;</th><th scope=col>&lt;dbl&gt;</th><th scope=col>&lt;int&gt;</th></tr>\n",
       "</thead>\n",
       "<tbody>\n",
       "\t<tr><th scope=row>1.heinz28</th><td>1</td><td> TRUE</td><td>heinz28</td><td>0</td><td>0</td><td>5.2</td><td>1</td></tr>\n",
       "\t<tr><th scope=row>1.heinz32</th><td>1</td><td>FALSE</td><td>heinz32</td><td>0</td><td>0</td><td>3.7</td><td>1</td></tr>\n",
       "\t<tr><th scope=row>1.heinz41</th><td>1</td><td>FALSE</td><td>heinz41</td><td>0</td><td>0</td><td>4.6</td><td>1</td></tr>\n",
       "\t<tr><th scope=row>1.hunts32</th><td>1</td><td>FALSE</td><td>hunts32</td><td>0</td><td>0</td><td>3.4</td><td>1</td></tr>\n",
       "\t<tr><th scope=row>2.heinz28</th><td>1</td><td> TRUE</td><td>heinz28</td><td>0</td><td>0</td><td>5.2</td><td>2</td></tr>\n",
       "\t<tr><th scope=row>2.heinz32</th><td>1</td><td>FALSE</td><td>heinz32</td><td>0</td><td>0</td><td>4.3</td><td>2</td></tr>\n",
       "</tbody>\n",
       "</table>\n"
      ],
      "text/latex": [
       "A mlogit.data: 6 × 7\n",
       "\\begin{tabular}{r|lllllll}\n",
       "  & id & choice & alt & disp & feat & price & chid\\\\\n",
       "  & <dbl> & <lgl> & <chr> & <dbl> & <dbl> & <dbl> & <int>\\\\\n",
       "\\hline\n",
       "\t1.heinz28 & 1 &  TRUE & heinz28 & 0 & 0 & 5.2 & 1\\\\\n",
       "\t1.heinz32 & 1 & FALSE & heinz32 & 0 & 0 & 3.7 & 1\\\\\n",
       "\t1.heinz41 & 1 & FALSE & heinz41 & 0 & 0 & 4.6 & 1\\\\\n",
       "\t1.hunts32 & 1 & FALSE & hunts32 & 0 & 0 & 3.4 & 1\\\\\n",
       "\t2.heinz28 & 1 &  TRUE & heinz28 & 0 & 0 & 5.2 & 2\\\\\n",
       "\t2.heinz32 & 1 & FALSE & heinz32 & 0 & 0 & 4.3 & 2\\\\\n",
       "\\end{tabular}\n"
      ],
      "text/markdown": [
       "\n",
       "A mlogit.data: 6 × 7\n",
       "\n",
       "| <!--/--> | id &lt;dbl&gt; | choice &lt;lgl&gt; | alt &lt;chr&gt; | disp &lt;dbl&gt; | feat &lt;dbl&gt; | price &lt;dbl&gt; | chid &lt;int&gt; |\n",
       "|---|---|---|---|---|---|---|---|\n",
       "| 1.heinz28 | 1 |  TRUE | heinz28 | 0 | 0 | 5.2 | 1 |\n",
       "| 1.heinz32 | 1 | FALSE | heinz32 | 0 | 0 | 3.7 | 1 |\n",
       "| 1.heinz41 | 1 | FALSE | heinz41 | 0 | 0 | 4.6 | 1 |\n",
       "| 1.hunts32 | 1 | FALSE | hunts32 | 0 | 0 | 3.4 | 1 |\n",
       "| 2.heinz28 | 1 |  TRUE | heinz28 | 0 | 0 | 5.2 | 2 |\n",
       "| 2.heinz32 | 1 | FALSE | heinz32 | 0 | 0 | 4.3 | 2 |\n",
       "\n"
      ],
      "text/plain": [
       "          id choice alt     disp feat price chid\n",
       "1.heinz28 1   TRUE  heinz28 0    0    5.2   1   \n",
       "1.heinz32 1  FALSE  heinz32 0    0    3.7   1   \n",
       "1.heinz41 1  FALSE  heinz41 0    0    4.6   1   \n",
       "1.hunts32 1  FALSE  hunts32 0    0    3.4   1   \n",
       "2.heinz28 1   TRUE  heinz28 0    0    5.2   2   \n",
       "2.heinz32 1  FALSE  heinz32 0    0    4.3   2   "
      ]
     },
     "metadata": {},
     "output_type": "display_data"
    }
   ],
   "source": [
    "Catsup <- mlogit.data(Catsup, shape = \"wide\", choice = \"choice\", varying = 2:13, sep = \".\")\n",
    "head(Catsup)"
   ]
  },
  {
   "cell_type": "code",
   "execution_count": 74,
   "metadata": {},
   "outputs": [
    {
     "data": {
      "text/plain": [
       "\n",
       "Call:\n",
       "mlogit(formula = choice ~ disp + feat + price + 1, data = Catsup, \n",
       "    method = \"nr\")\n",
       "\n",
       "Frequencies of alternatives:\n",
       " heinz28  heinz32  heinz41  hunts32 \n",
       "0.304146 0.521086 0.065046 0.109721 \n",
       "\n",
       "nr method\n",
       "5 iterations, 0h:0m:0s \n",
       "g'(-H)^-1g = 0.00292 \n",
       "successive function values within tolerance limits \n",
       "\n",
       "Coefficients :\n",
       "                     Estimate Std. Error  z-value  Pr(>|z|)    \n",
       "heinz32:(intercept) -0.924723   0.077218 -11.9755 < 2.2e-16 ***\n",
       "heinz41:(intercept) -1.072272   0.087321 -12.2796 < 2.2e-16 ***\n",
       "hunts32:(intercept) -2.425974   0.096189 -25.2209 < 2.2e-16 ***\n",
       "disp                 0.875593   0.097014   9.0254 < 2.2e-16 ***\n",
       "feat                 0.908559   0.114030   7.9677 1.554e-15 ***\n",
       "price               -1.402405   0.057991 -24.1832 < 2.2e-16 ***\n",
       "---\n",
       "Signif. codes:  0 ‘***’ 0.001 ‘**’ 0.01 ‘*’ 0.05 ‘.’ 0.1 ‘ ’ 1\n",
       "\n",
       "Log-Likelihood: -2517.9\n",
       "McFadden R^2:  0.19788 \n",
       "Likelihood ratio test : chisq = 1242.3 (p.value = < 2.22e-16)"
      ]
     },
     "metadata": {},
     "output_type": "display_data"
    }
   ],
   "source": [
    "result <- mlogit(choice ~ disp + feat + price + 1, data=Catsup)\n",
    "summary(result)"
   ]
  },
  {
   "cell_type": "code",
   "execution_count": null,
   "metadata": {},
   "outputs": [],
   "source": []
  }
 ],
 "metadata": {
  "kernelspec": {
   "display_name": "R",
   "language": "R",
   "name": "ir"
  },
  "language_info": {
   "codemirror_mode": "r",
   "file_extension": ".r",
   "mimetype": "text/x-r-source",
   "name": "R",
   "pygments_lexer": "r",
   "version": "3.6.2"
  },
  "toc": {
   "base_numbering": 1,
   "nav_menu": {},
   "number_sections": true,
   "sideBar": true,
   "skip_h1_title": false,
   "title_cell": "Table of Contents",
   "title_sidebar": "Contents",
   "toc_cell": false,
   "toc_position": {
    "height": "calc(100% - 180px)",
    "left": "10px",
    "top": "150px",
    "width": "240px"
   },
   "toc_section_display": true,
   "toc_window_display": true
  }
 },
 "nbformat": 4,
 "nbformat_minor": 2
}
